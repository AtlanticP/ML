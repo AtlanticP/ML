{
 "cells": [
  {
   "cell_type": "code",
   "execution_count": 1,
   "metadata": {},
   "outputs": [],
   "source": [
    "import matplotlib.pyplot as plt\n",
    "import numpy as np\n",
    "from scipy.misc import derivative\n",
    "plt.style.use(\"dark_background\")"
   ]
  },
  {
   "cell_type": "markdown",
   "metadata": {},
   "source": [
    "### Обучение с учителем"
   ]
  },
  {
   "cell_type": "markdown",
   "metadata": {},
   "source": [
    "- $\\mathbb{X}-$ простарнство объектов\n",
    "- $\\mathbb{Y}-$ пространство ответов\n",
    "- $x=(x^1, ..., x^d)-$ признаковое описание\n",
    "- $X=(x_i, y_i)_{i=1}^l-$ обучающая выборка\n",
    "- $a(x)-$ алгоритм, модель\n",
    "- $Q(a,X)-$ функционал ошибки алкоритма $a$ на выборке $X$\n",
    "- Обучение: $a(x) = \\underset{a \\in A}{argmin} Q(a, X)$\n",
    "\n",
    "- Функционал ошибки?\n",
    "- Семейство алгоритмов?\n",
    "- Метод обучения ?\n"
   ]
  },
  {
   "cell_type": "markdown",
   "metadata": {},
   "source": [
    "## Линейные модели"
   ]
  },
  {
   "cell_type": "markdown",
   "metadata": {},
   "source": [
    "### Регрессия: $\\mathbb{Y} =\\mathbb{R}$\n",
    "$$\\notag\n",
    "    a(x)=w_0+\\sum\\limits_{j=1}^d w_jx^j=\\sum\\limits_{j=1}^{d+1} w_jx^j=<w,x> \n",
    "$$"
   ]
  },
  {
   "cell_type": "markdown",
   "metadata": {},
   "source": [
    "***Функционал ошибки***\n",
    "- $a(x)-y$ - отклонение прогноза;\n",
    "- $|a(x)-y|$ - модуль отклонения;\n",
    "- $(a(x)-y)^2$ - квадрат отклонения.\n",
    "\n",
    "***Среднеквадратичная ошибка***\n",
    "\n",
    "$\n",
    "Q(a,X)=\\frac{1}{l}\\sum\\limits_{i=1}^l(a(x_i)-y_i)^2 \\notag \\Rightarrow$\n",
    "$$\\notag    \n",
    "    Q(w,X)=\\frac{1}{l}\\sum\\limits_{i=1}^l(<w_j,x_i>-y_i)^2, \n",
    "$$\n",
    "где     $j=\\overline{0, d}$\n",
    "\n",
    "#### Обучение линейной регрессии\n",
    "$$Q(w,X) = \\frac{1}{l}||Xw-y||^2 \\to \\underset{w}{min} \\notag$$\n",
    "***Градиентный спуск***\n",
    "- $w^0=0$\n",
    "- $w^t=w^{t-1}-\\eta_t \\nabla Q(w^{t-1}, X)$, где $t=\\overline{1,n}$\n",
    "\n",
    "- Если $||w^t-w^{t-1}||<\\varepsilon$, то завершить\n",
    "\n",
    "*Спр**\n",
    "- $\\nabla_w Q(w,X)=\\frac{2}{l}X^T(Xw-y)$\n",
    "- $\\frac{\\partial Q}{\\partial w_j}=\\frac{2}{l}\\sum\\limits_{i=1}^{l}x_i^j\n",
    "    (<w_jx_i^j> - y_i)    \n",
    "  $\n",
    "***Стохастический градиентный спуск***\n",
    "- $w^0=0$\n",
    "- $w^t=w^{t-1}-\\eta_t \\nabla Q(w^{t-1}, x_i)$, где $t=\\overline{1,n}$ и $x_i$ - случайный объект из $X$\n",
    "- Если $||w^t-w^{t-1}||<\\varepsilon$, то завершить\n",
    "\n",
    "#### Резюме\n",
    "- Градиентный спуск требует вычисления полного градиента\n",
    "- Стохастический градиентный спуск использует лишь один объект\n",
    "- SGD позволяет обучать алгоритм на больших выборках"
   ]
  },
  {
   "cell_type": "markdown",
   "metadata": {},
   "source": [
    "### Линейная классификация\n",
    "#### Бинарная классификация: $\\mathbb{Y} = \\{-1, +1\\}$"
   ]
  },
  {
   "cell_type": "markdown",
   "metadata": {},
   "source": [
    "***Семейство алгоритмов***\n",
    "\n",
    "- $a(x)=sign(w_0+\\sum\\limits_{j=1}^d w_jx^j)$\n",
    "\n",
    "***Расстояние*** от точки до гиперплоскости $<w,x>=0$:\n",
    "$\\frac{|<w, x>|}{||w||}$\n",
    "\n",
    "***Отступ***\n",
    "- $M_i=y_i<w, x_i>$\n",
    "- $M_i>0 - $ классификатор дает верный ответ\n",
    "- $M_i<0 - $ классификатор дает неверный ответ\n",
    "- чем больше отступ от нуля, тем больше уверенности\n",
    "\n",
    "***Функционал ошибки:***\n",
    "- $Q(a, X) = \\frac{1}{l}\\sum\\limits_{i=1}^{l}[a(x_i) \\neq y_i]-$ доля неправильных ответов;\n",
    "- $Q(a, X) = \\frac{1}{l}\\sum\\limits_{i=1}^{l}[M_i < 0]-$  доля неправильных овтетов (через отступы);\n",
    "- $[M<0] \\leq \\overset{\\sim}{L}(M) \n",
    "    \\Rightarrow Q(a, X) \\leq \\overset{\\sim}{Q}(a, X) \n",
    "        = \\frac{1}{l}\\sum\\limits_{i=1}^{l}\\overset{\\sim}{L}(M_i) \\to \\underset{a}{min}$ \n",
    "    - логистическая функция потерь:\n",
    "    $$\\overset{\\sim}{L}(M) = ln(1+exp(-M)) \\notag$$\n",
    "    - экспоненциальная:\n",
    "    $$\\overset{\\sim}{L}(M) = exp(-M) \\notag$$\n",
    "    - кусочно-линейная:\n",
    "    $$\\overset{\\sim}{L}(M)=max(0, 1-M) \\notag$$"
   ]
  }
 ],
 "metadata": {
  "kernelspec": {
   "display_name": "Python 3",
   "language": "python",
   "name": "python3"
  },
  "language_info": {
   "codemirror_mode": {
    "name": "ipython",
    "version": 3
   },
   "file_extension": ".py",
   "mimetype": "text/x-python",
   "name": "python",
   "nbconvert_exporter": "python",
   "pygments_lexer": "ipython3",
   "version": "3.7.7"
  },
  "latex_envs": {
   "LaTeX_envs_menu_present": true,
   "autoclose": false,
   "autocomplete": false,
   "bibliofile": "biblio.bib",
   "cite_by": "apalike",
   "current_citInitial": 1,
   "eqLabelWithNumbers": false,
   "eqNumInitial": 1,
   "hotkeys": {
    "equation": "Ctrl-E",
    "itemize": "Ctrl-I"
   },
   "labels_anchors": false,
   "latex_user_defs": false,
   "report_style_numbering": false,
   "user_envs_cfg": false
  }
 },
 "nbformat": 4,
 "nbformat_minor": 4
}
