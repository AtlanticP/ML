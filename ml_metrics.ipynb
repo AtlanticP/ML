{
 "cells": [
  {
   "cell_type": "markdown",
   "metadata": {},
   "source": [
    "### Метрики качества"
   ]
  },
  {
   "cell_type": "markdown",
   "metadata": {},
   "source": [
    "- для задания функционала ошибки\n",
    "    - используется при обучении\n",
    "- для подбора гиперпараметров\n",
    "    - используется при измерении качества на кросс-валидации\n",
    "- для оценивания итоговой модели\n",
    "    - пригодна ли модель для решения задачи?"
   ]
  },
  {
   "cell_type": "markdown",
   "metadata": {},
   "source": [
    "#### Метрики качества в задачах регрессии"
   ]
  },
  {
   "cell_type": "markdown",
   "metadata": {},
   "source": [
    "***Среднеквадратичная ошибка***\n",
    "\n",
    "$MSE(a,X)=\\frac{1}{l}\\sum\\limits_{i=1}{l}(a(x_i)-y_i)^2$\n",
    "    - легко оптимизировать\n",
    "    - сильно штрафует за большие ошибки, а значит алгоритм может настроиться на выбросы\n",
    "    \n",
    "***Средняя абсолютная ошибка***\n",
    "\n",
    "$MSE(a,X)=\\frac{1}{l}\\sum\\limits_{i=1}^{l}|a(x_i)-y_i|$\n",
    "    - сложнее минимизировать\n",
    "    - выше устройчивость к выбросам \n",
    "    \n",
    "***Коэффициент детерминации*** \n",
    "    - интерпретируемый вариант ***MSE***\n",
    "\n",
    "$\n",
    "    R^2(a,X) = 1 - \\frac{\\sum\\limits_{i=1}^l\n",
    "    (a(x_i)-y_i)^2}{\\sum\\limits_{i=1}^l(y_i-\\overline y)^2}\n",
    "$, где $\\overline y = \\frac{1}{l}\\sum\\limits_{i=1}^{l}y_i$\n",
    "\n",
    "- $0 \\leq R^2 \\leq 1$ (для разумных моделей)\n",
    "- $R^2 = 1$ -   идеальная модель\n",
    "- $R^2 = 0$ -  модель на уровне константной\n",
    "- $R^2 < 0$ -  модель хуже константной\n",
    "\n",
    "***Квантильная ошибка***\n",
    "    - для нессиметричных потерь\n",
    "$\\rho(a, X) = \\frac{1}{l}\\sum\\limits_{i=1}^l ((\\tau-1)[y_i<a(x_i)] +\n",
    "    \\tau[y_i\\geq a(x_i)])(y_i-a(x_i))$\n"
   ]
  },
  {
   "cell_type": "markdown",
   "metadata": {},
   "source": [
    "#### Метрики качества в задачах классификации"
   ]
  },
  {
   "cell_type": "markdown",
   "metadata": {},
   "source": [
    "***Доля неправильных ответов:***\n",
    "    -  следует учитывать баланс классов\n",
    "    - не учитывает разные цены разных типов ошибок\n",
    "\n",
    "$\\frac{1}{l} \\sum\\limits_{i=1}^{l}[a(x_i) \\neq y_i]$\n",
    "\n",
    "***Доля правильных ответов (accuracy)***\n",
    "    - учитывать баланс классов\n",
    "    - не учитывает разные цены разных типов ошибок\n",
    "$\\frac{1}{l} \\sum\\limits_{i=1}^{l}[a(x_i) = y_i]$\n",
    "\n",
    "***Матрица ошибок***\n",
    "\n",
    "$\n",
    "\\begin{array}{|c|c|с|}\n",
    "\\hline          & y=1                    & y=-1\\\\\n",
    "\\hline a(x)=1   & True\\;Positive\\; (TP)  & False\\; Positive\\; (FP)  \\\\\n",
    "\\hline a(x)=-1  & False\\;Negative\\; (FN) & True\\; Negative\\; (TN)  \\\\\n",
    "\\hline\n",
    "\\end{array}\n",
    "$\n",
    "\n",
    "***Точность*** \n",
    "    - насколько множно доверять классификатору, если он срабатывает\n",
    "\n",
    "$precision(a, X) = \\frac{TP}{TP+FP}$\n",
    "\n",
    "***Полнота*** \n",
    "    - как много положительных объектов находит классификатор\n",
    "\n",
    "$recall(a, X) = \\frac{TP}{TP+FN}$\n",
    "\n",
    "***Пример*** \n",
    "- (кредитный скоринг) неудачных кредитов должно быть не больше 5% $ \\Rightarrow precision(a, X) \\geq 0.95$, т.е. максимизируем полноту\n",
    "- (медицинская диагностика) необходимо найти не менее 80% больных $(recall(a, X) \\geq 0.8)$, т.е. максимизируем точность\n",
    "\n",
    "***F-мера***\n",
    "\n",
    "$F = \\frac{2\\cdot precision \\cdot recall}{precision+recall}$"
   ]
  },
  {
   "cell_type": "markdown",
   "metadata": {},
   "source": [
    "#### Качество оценок принадлежности к классу\n",
    "Пусть классификатор $a(x)=[b(x)>t]$, где $b(x)$ оценка принадлежности к классу +1, $t$ - порог отнесения к тому или иному классу\n",
    "- AUC-PRC - площадь под PR-кривой:\n",
    "\n",
    "Ось $X - $ Recall\n",
    "\n",
    "Ось $Y - $ Precision\n",
    "- AUC-ROC - площадь под ROC-кривой (доля верных/ложных срабатываний):\n",
    "\n",
    "Ось $X - $ False Positive Rate\n",
    "\n",
    "$$FPR=\\frac{FP}{FP+TN} \\notag$$\n",
    "\n",
    "Ось $Y - $ True Positve Rate\n",
    "\n",
    "$$TPR = \\frac{TP}{TP+FN} \\notag$$"
   ]
  }
 ],
 "metadata": {
  "kernelspec": {
   "display_name": "Python 3",
   "language": "python",
   "name": "python3"
  },
  "language_info": {
   "codemirror_mode": {
    "name": "ipython",
    "version": 3
   },
   "file_extension": ".py",
   "mimetype": "text/x-python",
   "name": "python",
   "nbconvert_exporter": "python",
   "pygments_lexer": "ipython3",
   "version": "3.7.7"
  },
  "latex_envs": {
   "LaTeX_envs_menu_present": true,
   "autoclose": false,
   "autocomplete": false,
   "bibliofile": "biblio.bib",
   "cite_by": "apalike",
   "current_citInitial": 1,
   "eqLabelWithNumbers": false,
   "eqNumInitial": 1,
   "hotkeys": {
    "equation": "Ctrl-E",
    "itemize": "Ctrl-I"
   },
   "labels_anchors": false,
   "latex_user_defs": false,
   "report_style_numbering": false,
   "user_envs_cfg": false
  }
 },
 "nbformat": 4,
 "nbformat_minor": 4
}
