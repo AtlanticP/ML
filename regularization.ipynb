{
 "cells": [
  {
   "cell_type": "markdown",
   "metadata": {},
   "source": [
    "### Регуляризация"
   ]
  },
  {
   "cell_type": "markdown",
   "metadata": {},
   "source": [
    "$L_2$ - регуляризатор\n",
    "    - штрафует модель за сложность\n",
    "    - гладкий и выпуклый\n",
    "\n",
    "- функционал ошибки: $Q(w,x)$\n",
    "- квадратичный регуляризатор: $\\|w\\|_2=\\sum\\limits_{j=1}^d w_j^2$\n",
    "- новый функционал: \n",
    "$$ \\notag\n",
    "    Q(w,x) + \\lambda \\|w\\|_2 \\to \\underset{w}{min} \\Leftrightarrow\n",
    "     \\begin{cases}\n",
    "       Q(w, X) \\to \\underset{w}{min} \\\\\n",
    "       \\|w\\|^2 \\leq C\n",
    "     \\end{cases}\n",
    "$$\n",
    "Рекомендуется подбирать $\\lambda$ по кроссвалидации."
   ]
  },
  {
   "cell_type": "markdown",
   "metadata": {},
   "source": [
    "$L_1$ - регуляризатор\n",
    "    - некоторые веса оказываются нулевыми\n",
    "    - позволяет отбирать признаки\n",
    "    - негладкий и выпуклый\n",
    "\n",
    "- функционал ошибки: $Q(w,x)$\n",
    "- квадратичный регуляризатор: $\\|w\\|_1=\\sum\\limits_{j=1}^d |w_j|$\n",
    "- новый функционал: $ Q(w,x) + \\lambda \\|w\\|_1 \\to \\underset{w}{min}  \\notag$"
   ]
  }
 ],
 "metadata": {
  "kernelspec": {
   "display_name": "Python 3",
   "language": "python",
   "name": "python3"
  },
  "language_info": {
   "codemirror_mode": {
    "name": "ipython",
    "version": 3
   },
   "file_extension": ".py",
   "mimetype": "text/x-python",
   "name": "python",
   "nbconvert_exporter": "python",
   "pygments_lexer": "ipython3",
   "version": "3.7.7"
  },
  "latex_envs": {
   "LaTeX_envs_menu_present": true,
   "autoclose": false,
   "autocomplete": false,
   "bibliofile": "biblio.bib",
   "cite_by": "apalike",
   "current_citInitial": 1,
   "eqLabelWithNumbers": false,
   "eqNumInitial": 1,
   "hotkeys": {
    "equation": "Ctrl-E",
    "itemize": "Ctrl-I"
   },
   "labels_anchors": false,
   "latex_user_defs": false,
   "report_style_numbering": false,
   "user_envs_cfg": false
  }
 },
 "nbformat": 4,
 "nbformat_minor": 4
}
