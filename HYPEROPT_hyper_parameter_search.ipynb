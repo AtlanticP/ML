{
 "cells": [
  {
   "cell_type": "markdown",
   "metadata": {},
   "source": [
    "### [ML-модели с помощью HYPEROPT](https://habr.com/ru/post/542624/)"
   ]
  },
  {
   "cell_type": "code",
   "execution_count": 1,
   "metadata": {},
   "outputs": [],
   "source": [
    "from functools import partial\n",
    "import numpy as np\n",
    "import pandas as pd\n",
    "import matplotlib.pyplot as plt\n",
    "import pickle\n",
    "%matplotlib inline\n",
    "\n",
    "import seaborn as sns\n",
    "from sklearn.model_selection import cross_val_score, StratifiedKFold\n",
    "from sklearn.linear_model import LogisticRegression\n",
    "from sklearn.preprocessing import StandardScaler, OneHotEncoder\n",
    "from sklearn.pipeline import Pipeline\n",
    "from sklearn.impute import SimpleImputer\n",
    "from sklearn.compose import ColumnTransformer\n",
    "from hyperopt import hp, fmin, tpe, rand, Trials, STATUS_OK\n",
    "import os"
   ]
  },
  {
   "cell_type": "code",
   "execution_count": 2,
   "metadata": {},
   "outputs": [],
   "source": [
    "def f(args):\n",
    "    x = args\n",
    "    if x > 3:\n",
    "        return (x-8.3)**2\n",
    "    else:\n",
    "        return (x+2)**2 + 3"
   ]
  },
  {
   "cell_type": "code",
   "execution_count": 3,
   "metadata": {},
   "outputs": [
    {
     "name": "stdout",
     "output_type": "stream",
     "text": [
      "TPE result {'x': 8.23531780044145}\n",
      "random result {'x': -2.143085493189555}\n"
     ]
    },
    {
     "data": {
      "image/png": "[encoded data removed]",
      "text/plain": [
       "<Figure size 432x288 with 1 Axes>"
      ]
     },
     "metadata": {
      "needs_background": "light"
     },
     "output_type": "display_data"
    }
   ],
   "source": [
    "x = np.linspace(-5, 10, 1000)\n",
    "y = list(map(f, x))\n",
    "plt.plot(x, y, label='f(x)')\n",
    "plt.scatter([8.3], [0], label='min', color='r')\n",
    "space = hp.normal('x', -10, 10)\n",
    "\n",
    "# метод байесовской оптимизации Tree of Parzen Estimators (TPE)\n",
    "best = fmin(f, space, algo=tpe.suggest, max_evals=50,  show_progressbar=False)\n",
    "print('TPE result', best)\n",
    "plt.scatter(best['x'], f(best['x']), label='TPE', color='m')\n",
    "\n",
    "best = fmin(f, space, algo=rand.suggest, max_evals=50,  show_progressbar=False)\n",
    "print('random result', best)\n",
    "plt.scatter(best['x'], f(best['x']), label='random', color='y')\n",
    "\n",
    "plt.legend()\n",
    "plt.show()"
   ]
  },
  {
   "cell_type": "code",
   "execution_count": 4,
   "metadata": {},
   "outputs": [
    {
     "data": {
      "text/plain": [
       "True"
      ]
     },
     "execution_count": 4,
     "metadata": {},
     "output_type": "execute_result"
    }
   ],
   "source": [
    "PATH_DIR = '../../bases'\n",
    "FILE_NAME = 'adult.data'\n",
    "PATH_FILE = os.path.join(PATH_DIR, FILE_NAME)\n",
    "os.path.isfile(PATH_FILE)"
   ]
  },
  {
   "cell_type": "code",
   "execution_count": 5,
   "metadata": {},
   "outputs": [
    {
     "name": "stdout",
     "output_type": "stream",
     "text": [
      "(32561, 15)\n",
      "(32537, 15)\n"
     ]
    },
    {
     "data": {
      "text/html": [
       "<div>\n",
       "<style scoped>\n",
       "    .dataframe tbody tr th:only-of-type {\n",
       "        vertical-align: middle;\n",
       "    }\n",
       "\n",
       "    .dataframe tbody tr th {\n",
       "        vertical-align: top;\n",
       "    }\n",
       "\n",
       "    .dataframe thead th {\n",
       "        text-align: right;\n",
       "    }\n",
       "</style>\n",
       "<table border=\"1\" class=\"dataframe\">\n",
       "  <thead>\n",
       "    <tr style=\"text-align: right;\">\n",
       "      <th></th>\n",
       "      <th>age</th>\n",
       "      <th>workclass</th>\n",
       "      <th>fnlwgt</th>\n",
       "      <th>education</th>\n",
       "      <th>education-num</th>\n",
       "      <th>marital-status</th>\n",
       "      <th>occupation</th>\n",
       "      <th>relationship</th>\n",
       "      <th>race</th>\n",
       "      <th>sex</th>\n",
       "      <th>capital-gain</th>\n",
       "      <th>capital-loss</th>\n",
       "      <th>per-week</th>\n",
       "      <th>native-country</th>\n",
       "      <th>salary</th>\n",
       "    </tr>\n",
       "  </thead>\n",
       "  <tbody>\n",
       "    <tr>\n",
       "      <th>0</th>\n",
       "      <td>39</td>\n",
       "      <td>State-gov</td>\n",
       "      <td>77516</td>\n",
       "      <td>Bachelors</td>\n",
       "      <td>13</td>\n",
       "      <td>Never-married</td>\n",
       "      <td>Adm-clerical</td>\n",
       "      <td>Not-in-family</td>\n",
       "      <td>White</td>\n",
       "      <td>Male</td>\n",
       "      <td>2174</td>\n",
       "      <td>0</td>\n",
       "      <td>40</td>\n",
       "      <td>United-States</td>\n",
       "      <td>&lt;=50K</td>\n",
       "    </tr>\n",
       "    <tr>\n",
       "      <th>1</th>\n",
       "      <td>50</td>\n",
       "      <td>Self-emp-not-inc</td>\n",
       "      <td>83311</td>\n",
       "      <td>Bachelors</td>\n",
       "      <td>13</td>\n",
       "      <td>Married-civ-spouse</td>\n",
       "      <td>Exec-managerial</td>\n",
       "      <td>Husband</td>\n",
       "      <td>White</td>\n",
       "      <td>Male</td>\n",
       "      <td>0</td>\n",
       "      <td>0</td>\n",
       "      <td>13</td>\n",
       "      <td>United-States</td>\n",
       "      <td>&lt;=50K</td>\n",
       "    </tr>\n",
       "    <tr>\n",
       "      <th>2</th>\n",
       "      <td>38</td>\n",
       "      <td>Private</td>\n",
       "      <td>215646</td>\n",
       "      <td>HS-grad</td>\n",
       "      <td>9</td>\n",
       "      <td>Divorced</td>\n",
       "      <td>Handlers-cleaners</td>\n",
       "      <td>Not-in-family</td>\n",
       "      <td>White</td>\n",
       "      <td>Male</td>\n",
       "      <td>0</td>\n",
       "      <td>0</td>\n",
       "      <td>40</td>\n",
       "      <td>United-States</td>\n",
       "      <td>&lt;=50K</td>\n",
       "    </tr>\n",
       "    <tr>\n",
       "      <th>3</th>\n",
       "      <td>53</td>\n",
       "      <td>Private</td>\n",
       "      <td>234721</td>\n",
       "      <td>11th</td>\n",
       "      <td>7</td>\n",
       "      <td>Married-civ-spouse</td>\n",
       "      <td>Handlers-cleaners</td>\n",
       "      <td>Husband</td>\n",
       "      <td>Black</td>\n",
       "      <td>Male</td>\n",
       "      <td>0</td>\n",
       "      <td>0</td>\n",
       "      <td>40</td>\n",
       "      <td>United-States</td>\n",
       "      <td>&lt;=50K</td>\n",
       "    </tr>\n",
       "    <tr>\n",
       "      <th>4</th>\n",
       "      <td>28</td>\n",
       "      <td>Private</td>\n",
       "      <td>338409</td>\n",
       "      <td>Bachelors</td>\n",
       "      <td>13</td>\n",
       "      <td>Married-civ-spouse</td>\n",
       "      <td>Prof-specialty</td>\n",
       "      <td>Wife</td>\n",
       "      <td>Black</td>\n",
       "      <td>Female</td>\n",
       "      <td>0</td>\n",
       "      <td>0</td>\n",
       "      <td>40</td>\n",
       "      <td>Cuba</td>\n",
       "      <td>&lt;=50K</td>\n",
       "    </tr>\n",
       "  </tbody>\n",
       "</table>\n",
       "</div>"
      ],
      "text/plain": [
       "   age          workclass  fnlwgt   education  education-num  \\\n",
       "0   39          State-gov   77516   Bachelors             13   \n",
       "1   50   Self-emp-not-inc   83311   Bachelors             13   \n",
       "2   38            Private  215646     HS-grad              9   \n",
       "3   53            Private  234721        11th              7   \n",
       "4   28            Private  338409   Bachelors             13   \n",
       "\n",
       "        marital-status          occupation    relationship    race      sex  \\\n",
       "0        Never-married        Adm-clerical   Not-in-family   White     Male   \n",
       "1   Married-civ-spouse     Exec-managerial         Husband   White     Male   \n",
       "2             Divorced   Handlers-cleaners   Not-in-family   White     Male   \n",
       "3   Married-civ-spouse   Handlers-cleaners         Husband   Black     Male   \n",
       "4   Married-civ-spouse      Prof-specialty            Wife   Black   Female   \n",
       "\n",
       "   capital-gain  capital-loss  per-week  native-country  salary  \n",
       "0          2174             0        40   United-States   <=50K  \n",
       "1             0             0        13   United-States   <=50K  \n",
       "2             0             0        40   United-States   <=50K  \n",
       "3             0             0        40   United-States   <=50K  \n",
       "4             0             0        40            Cuba   <=50K  "
      ]
     },
     "execution_count": 5,
     "metadata": {},
     "output_type": "execute_result"
    }
   ],
   "source": [
    "cols = ['age', 'workclass', 'fnlwgt', 'education', 'education-num', 'marital-status', 'occupation', 'relationship', 'race', 'sex', 'capital-gain', 'capital-loss', 'per-week', 'native-country', 'salary']\n",
    "df = pd.read_csv(PATH_FILE, header=None)\n",
    "df.columns = cols\n",
    "print(df.shape)\n",
    "\n",
    "df.drop_duplicates(keep='first', inplace=True, ignore_index=True)\n",
    "print(df.shape)\n",
    "\n",
    "df.head()"
   ]
  },
  {
   "cell_type": "code",
   "execution_count": 18,
   "metadata": {},
   "outputs": [],
   "source": [
    "X = df.drop(labels=['salary', 'native-country'], axis=1).copy()\n",
    "y = df.loc[:, 'salary'].map({' <=50K': 0, ' >50K': 1}).values\n",
    "# X = df.iloc[:1000, :]\n",
    "# y = df.iloc[:1000, :]"
   ]
  },
  {
   "cell_type": "markdown",
   "metadata": {},
   "source": [
    "#### Preprocessing\n",
    "1. Categorical data - SimpleImputer (nan to '?', OHE);\n",
    "2. Continuous - StandartScaler"
   ]
  },
  {
   "cell_type": "code",
   "execution_count": 19,
   "metadata": {},
   "outputs": [
    {
     "data": {
      "text/plain": [
       "True"
      ]
     },
     "execution_count": 19,
     "metadata": {},
     "output_type": "execute_result"
    }
   ],
   "source": [
    "nums = np.where(X.dtypes !=  'object')[0]\n",
    "cats = np.where(X.dtypes == 'object')[0]\n",
    "len(nums) + len(cats) == X.shape[1]"
   ]
  },
  {
   "cell_type": "code",
   "execution_count": 20,
   "metadata": {},
   "outputs": [],
   "source": [
    "pipe_cat = Pipeline([\n",
    "    ('imputer', SimpleImputer(missing_values='?', strategy='most_frequent')),\n",
    "    ('ohe', OneHotEncoder(sparse=False, handle_unknown='ignore'))\n",
    "    ])\n",
    "pipe_num = Pipeline([\n",
    "    ('scaler', StandardScaler())\n",
    "    ])"
   ]
  },
  {
   "cell_type": "code",
   "execution_count": 21,
   "metadata": {},
   "outputs": [],
   "source": [
    "trnsf = ColumnTransformer(\n",
    "    transformers=[\n",
    "        ('cat', pipe_cat, cats),\n",
    "        ('num', pipe_num, nums),\n",
    "        ],\n",
    "        remainder='passthrough'\n",
    "    )\n",
    "\n",
    "model = Pipeline([\n",
    "        ('transformer', trnsf),\n",
    "        ('lr', LogisticRegression(random_state=32, n_jobs=-1,\n",
    "                                solver='liblinear'))\n",
    "    ])"
   ]
  },
  {
   "cell_type": "markdown",
   "metadata": {},
   "source": [
    "#### Пространство поиска параметров для hyperopt"
   ]
  },
  {
   "cell_type": "code",
   "execution_count": 22,
   "metadata": {},
   "outputs": [],
   "source": [
    "space = {\n",
    "    'lr__penalty': hp.choice(label='penalty', options=['l1', 'l2']),\n",
    "    'lr__C': hp.loguniform(label='C', low=-4*np.log(10), high=2*np.log(10))\n",
    "    }"
   ]
  },
  {
   "cell_type": "markdown",
   "metadata": {},
   "source": [
    "Зададим функцию, которую будем оптимизировать. Она принимает на вход гиперпараметры, модель и данные, после чего возвращает точность на кросс-валидации:"
   ]
  },
  {
   "cell_type": "code",
   "execution_count": 23,
   "metadata": {},
   "outputs": [],
   "source": [
    "def objective(params, pipeline, X_train, y_train):\n",
    "    \"\"\" Кросс-валидация с текущими гиперпараметрами\"\"\"\n",
    "    \n",
    "    pipeline.set_params(**params)\n",
    "    skf = StratifiedKFold(n_splits=4, shuffle=True, random_state=32)\n",
    "    \n",
    "    score = cross_val_score(estimator=pipeline, X=X_train, y=y_train,\n",
    "                           scoring='roc_auc', cv=skf, n_jobs=-1)\n",
    "    \n",
    "    return {'loss': -score.mean(), 'params': params, 'status': STATUS_OK}"
   ]
  },
  {
   "cell_type": "code",
   "execution_count": 24,
   "metadata": {},
   "outputs": [
    {
     "name": "stdout",
     "output_type": "stream",
     "text": [
      "100%|██████████| 3/3 [01:01<00:00, 20.40s/trial, best loss: -0.9068199363090965]\n",
      "CPU times: user 370 ms, sys: 49 ms, total: 419 ms\n",
      "Wall time: 1min 1s\n"
     ]
    }
   ],
   "source": [
    "%%time\n",
    "# история поиска\n",
    "trials = Trials()\n",
    "\n",
    "# fmin на вход принимает словарь значений гиперпараметров\n",
    "best = fmin(\n",
    "            # функция для оптимизации\n",
    "            fn=partial(objective, pipeline=model, X_train=X, y_train=y),\n",
    "            # пространство поиска гиперпараметров\n",
    "            space=space, \n",
    "            # алгоритм поиска\n",
    "            algo=tpe.suggest,     # algo=rand.suggest\n",
    "            # число итераций (+ время поиска)\n",
    "            max_evals=3,\n",
    "            # объект для сохранения истории поиска\n",
    "            trials=trials,\n",
    "            rstate=np.random.RandomState(32),\n",
    "            show_progressbar=True            \n",
    "        )"
   ]
  },
  {
   "cell_type": "code",
   "execution_count": 18,
   "metadata": {},
   "outputs": [
    {
     "data": {
      "text/plain": [
       "[{'loss': -0.9068199363090965,\n",
       "  'params': {'lr__C': 4.690237297188879, 'lr__penalty': 'l1'},\n",
       "  'status': 'ok'},\n",
       " {'loss': -0.9016471857875652,\n",
       "  'params': {'lr__C': 0.016140304020745604, 'lr__penalty': 'l1'},\n",
       "  'status': 'ok'},\n",
       " {'loss': -0.9040826111211661,\n",
       "  'params': {'lr__C': 0.010162092251185204, 'lr__penalty': 'l2'},\n",
       "  'status': 'ok'},\n",
       " {'loss': -0.9068032436501171,\n",
       "  'params': {'lr__C': 38.02143741195047, 'lr__penalty': 'l1'},\n",
       "  'status': 'ok'},\n",
       " {'loss': -0.9068127666907269,\n",
       "  'params': {'lr__C': 10.39770166790649, 'lr__penalty': 'l2'},\n",
       "  'status': 'ok'},\n",
       " {'loss': -0.9066094254692691,\n",
       "  'params': {'lr__C': 0.07745474930245956, 'lr__penalty': 'l2'},\n",
       "  'status': 'ok'},\n",
       " {'loss': -0.906817601066774,\n",
       "  'params': {'lr__C': 17.16773963992117, 'lr__penalty': 'l2'},\n",
       "  'status': 'ok'},\n",
       " {'loss': -0.9067699853241539,\n",
       "  'params': {'lr__C': 0.6399608039674108, 'lr__penalty': 'l2'},\n",
       "  'status': 'ok'},\n",
       " {'loss': -0.906537736440721,\n",
       "  'params': {'lr__C': 0.06148111466793334, 'lr__penalty': 'l2'},\n",
       "  'status': 'ok'},\n",
       " {'loss': -0.903403579973856,\n",
       "  'params': {'lr__C': 0.022772081580722362, 'lr__penalty': 'l1'},\n",
       "  'status': 'ok'},\n",
       " {'loss': -0.9068123957746039,\n",
       "  'params': {'lr__C': 22.438242601341983, 'lr__penalty': 'l1'},\n",
       "  'status': 'ok'},\n",
       " {'loss': -0.9001447808625844,\n",
       "  'params': {'lr__C': 0.0039550728943192675, 'lr__penalty': 'l2'},\n",
       "  'status': 'ok'},\n",
       " {'loss': -0.9068126011431671,\n",
       "  'params': {'lr__C': 74.42648394621924, 'lr__penalty': 'l2'},\n",
       "  'status': 'ok'},\n",
       " {'loss': -0.9067529453100481,\n",
       "  'params': {'lr__C': 0.6056205396583991, 'lr__penalty': 'l1'},\n",
       "  'status': 'ok'},\n",
       " {'loss': -0.9068046503901959,\n",
       "  'params': {'lr__C': 2.027525836187155, 'lr__penalty': 'l1'},\n",
       "  'status': 'ok'},\n",
       " {'loss': -0.9068220429199604,\n",
       "  'params': {'lr__C': 5.359811589421972, 'lr__penalty': 'l1'},\n",
       "  'status': 'ok'},\n",
       " {'loss': -0.9067880008046257,\n",
       "  'params': {'lr__C': 1.1450662326328025, 'lr__penalty': 'l1'},\n",
       "  'status': 'ok'},\n",
       " {'loss': -0.8737019823951381,\n",
       "  'params': {'lr__C': 0.00016883092394306617, 'lr__penalty': 'l2'},\n",
       "  'status': 'ok'},\n",
       " {'loss': -0.9067890338365582,\n",
       "  'params': {'lr__C': 1.1270727375779388, 'lr__penalty': 'l1'},\n",
       "  'status': 'ok'},\n",
       " {'loss': -0.9067303071118196,\n",
       "  'params': {'lr__C': 0.3719756657433337, 'lr__penalty': 'l1'},\n",
       "  'status': 'ok'},\n",
       " {'loss': -0.9068222910917808,\n",
       "  'params': {'lr__C': 5.497112797482706, 'lr__penalty': 'l1'},\n",
       "  'status': 'ok'},\n",
       " {'loss': -0.9068246257548654,\n",
       "  'params': {'lr__C': 8.319806775062746, 'lr__penalty': 'l1'},\n",
       "  'status': 'ok'},\n",
       " {'loss': -0.9067751260836822,\n",
       "  'params': {'lr__C': 91.24772085917054, 'lr__penalty': 'l1'},\n",
       "  'status': 'ok'},\n",
       " {'loss': -0.5,\n",
       "  'params': {'lr__C': 0.00013867543319872727, 'lr__penalty': 'l1'},\n",
       "  'status': 'ok'},\n",
       " {'loss': -0.9066321872524341,\n",
       "  'params': {'lr__C': 0.2482590185491263, 'lr__penalty': 'l1'},\n",
       "  'status': 'ok'},\n",
       " {'loss': -0.9068175812713335,\n",
       "  'params': {'lr__C': 3.525899133034927, 'lr__penalty': 'l1'},\n",
       "  'status': 'ok'},\n",
       " {'loss': -0.8358155310842909,\n",
       "  'params': {'lr__C': 0.0007815123785148795, 'lr__penalty': 'l1'},\n",
       "  'status': 'ok'},\n",
       " {'loss': -0.9066108433053892,\n",
       "  'params': {'lr__C': 0.23548098736485834, 'lr__penalty': 'l1'},\n",
       "  'status': 'ok'},\n",
       " {'loss': -0.9068259276657559,\n",
       "  'params': {'lr__C': 7.889353833081468, 'lr__penalty': 'l1'},\n",
       "  'status': 'ok'},\n",
       " {'loss': -0.906797686080147,\n",
       "  'params': {'lr__C': 46.434357143639886, 'lr__penalty': 'l1'},\n",
       "  'status': 'ok'},\n",
       " {'loss': -0.9068219197081433,\n",
       "  'params': {'lr__C': 11.179855277097127, 'lr__penalty': 'l1'},\n",
       "  'status': 'ok'},\n",
       " {'loss': -0.9068146692883127,\n",
       "  'params': {'lr__C': 2.685116005828599, 'lr__penalty': 'l1'},\n",
       "  'status': 'ok'},\n",
       " {'loss': -0.9068049172335799,\n",
       "  'params': {'lr__C': 34.609369949519255, 'lr__penalty': 'l1'},\n",
       "  'status': 'ok'},\n",
       " {'loss': -0.9067734939421663,\n",
       "  'params': {'lr__C': 96.51039156302554, 'lr__penalty': 'l1'},\n",
       "  'status': 'ok'},\n",
       " {'loss': -0.8952248235470526,\n",
       "  'params': {'lr__C': 0.004960032138122786, 'lr__penalty': 'l1'},\n",
       "  'status': 'ok'},\n",
       " {'loss': -0.9064776585856537,\n",
       "  'params': {'lr__C': 0.11938154094190981, 'lr__penalty': 'l1'},\n",
       "  'status': 'ok'},\n",
       " {'loss': -0.9068251013625848,\n",
       "  'params': {'lr__C': 9.152218364197518, 'lr__penalty': 'l1'},\n",
       "  'status': 'ok'},\n",
       " {'loss': -0.9068174974648957,\n",
       "  'params': {'lr__C': 17.988509223385837, 'lr__penalty': 'l2'},\n",
       "  'status': 'ok'},\n",
       " {'loss': -0.9046253261054915,\n",
       "  'params': {'lr__C': 0.0307779901722829, 'lr__penalty': 'l1'},\n",
       "  'status': 'ok'},\n",
       " {'loss': -0.906786119620381,\n",
       "  'params': {'lr__C': 1.1172436410415314, 'lr__penalty': 'l2'},\n",
       "  'status': 'ok'}]"
      ]
     },
     "execution_count": 18,
     "metadata": {},
     "output_type": "execute_result"
    }
   ],
   "source": [
    "trials.results"
   ]
  },
  {
   "cell_type": "code",
   "execution_count": 15,
   "metadata": {},
   "outputs": [],
   "source": [
    "def df_results(hp_results):\n",
    "    \"\"\"Отображаем результаты подбора в формате DataFrame\"\"\"\n",
    "    \n",
    "    results = pd.DataFrame([{**x, **x['params']} for x in hp_results])\n",
    "    results.drop(labels=['status', 'params'], axis=1, inplace=True)\n",
    "    results.loss = -results.loss\n",
    "    results.sort_values(by=['loss'], ascending=False, inplace=True)\n",
    "    \n",
    "    return results"
   ]
  },
  {
   "cell_type": "code",
   "execution_count": 17,
   "metadata": {},
   "outputs": [
    {
     "data": {
      "text/plain": [
       "[{'loss': -0.9068199363090965,\n",
       "  'params': {'lr__C': 4.690237297188879, 'lr__penalty': 'l1'},\n",
       "  'status': 'ok'},\n",
       " {'loss': -0.9016471857875652,\n",
       "  'params': {'lr__C': 0.016140304020745604, 'lr__penalty': 'l1'},\n",
       "  'status': 'ok'},\n",
       " {'loss': -0.9040826111211661,\n",
       "  'params': {'lr__C': 0.010162092251185204, 'lr__penalty': 'l2'},\n",
       "  'status': 'ok'},\n",
       " {'loss': -0.9068032436501171,\n",
       "  'params': {'lr__C': 38.02143741195047, 'lr__penalty': 'l1'},\n",
       "  'status': 'ok'},\n",
       " {'loss': -0.9068127666907269,\n",
       "  'params': {'lr__C': 10.39770166790649, 'lr__penalty': 'l2'},\n",
       "  'status': 'ok'},\n",
       " {'loss': -0.9066094254692691,\n",
       "  'params': {'lr__C': 0.07745474930245956, 'lr__penalty': 'l2'},\n",
       "  'status': 'ok'},\n",
       " {'loss': -0.906817601066774,\n",
       "  'params': {'lr__C': 17.16773963992117, 'lr__penalty': 'l2'},\n",
       "  'status': 'ok'},\n",
       " {'loss': -0.9067699853241539,\n",
       "  'params': {'lr__C': 0.6399608039674108, 'lr__penalty': 'l2'},\n",
       "  'status': 'ok'},\n",
       " {'loss': -0.906537736440721,\n",
       "  'params': {'lr__C': 0.06148111466793334, 'lr__penalty': 'l2'},\n",
       "  'status': 'ok'},\n",
       " {'loss': -0.903403579973856,\n",
       "  'params': {'lr__C': 0.022772081580722362, 'lr__penalty': 'l1'},\n",
       "  'status': 'ok'},\n",
       " {'loss': -0.9068123957746039,\n",
       "  'params': {'lr__C': 22.438242601341983, 'lr__penalty': 'l1'},\n",
       "  'status': 'ok'},\n",
       " {'loss': -0.9001447808625844,\n",
       "  'params': {'lr__C': 0.0039550728943192675, 'lr__penalty': 'l2'},\n",
       "  'status': 'ok'},\n",
       " {'loss': -0.9068126011431671,\n",
       "  'params': {'lr__C': 74.42648394621924, 'lr__penalty': 'l2'},\n",
       "  'status': 'ok'},\n",
       " {'loss': -0.9067529453100481,\n",
       "  'params': {'lr__C': 0.6056205396583991, 'lr__penalty': 'l1'},\n",
       "  'status': 'ok'},\n",
       " {'loss': -0.9068046503901959,\n",
       "  'params': {'lr__C': 2.027525836187155, 'lr__penalty': 'l1'},\n",
       "  'status': 'ok'},\n",
       " {'loss': -0.9068220429199604,\n",
       "  'params': {'lr__C': 5.359811589421972, 'lr__penalty': 'l1'},\n",
       "  'status': 'ok'},\n",
       " {'loss': -0.9067880008046257,\n",
       "  'params': {'lr__C': 1.1450662326328025, 'lr__penalty': 'l1'},\n",
       "  'status': 'ok'},\n",
       " {'loss': -0.8737019823951381,\n",
       "  'params': {'lr__C': 0.00016883092394306617, 'lr__penalty': 'l2'},\n",
       "  'status': 'ok'},\n",
       " {'loss': -0.9067890338365582,\n",
       "  'params': {'lr__C': 1.1270727375779388, 'lr__penalty': 'l1'},\n",
       "  'status': 'ok'},\n",
       " {'loss': -0.9067303071118196,\n",
       "  'params': {'lr__C': 0.3719756657433337, 'lr__penalty': 'l1'},\n",
       "  'status': 'ok'},\n",
       " {'loss': -0.9068222910917808,\n",
       "  'params': {'lr__C': 5.497112797482706, 'lr__penalty': 'l1'},\n",
       "  'status': 'ok'},\n",
       " {'loss': -0.9068246257548654,\n",
       "  'params': {'lr__C': 8.319806775062746, 'lr__penalty': 'l1'},\n",
       "  'status': 'ok'},\n",
       " {'loss': -0.9067751260836822,\n",
       "  'params': {'lr__C': 91.24772085917054, 'lr__penalty': 'l1'},\n",
       "  'status': 'ok'},\n",
       " {'loss': -0.5,\n",
       "  'params': {'lr__C': 0.00013867543319872727, 'lr__penalty': 'l1'},\n",
       "  'status': 'ok'},\n",
       " {'loss': -0.9066321872524341,\n",
       "  'params': {'lr__C': 0.2482590185491263, 'lr__penalty': 'l1'},\n",
       "  'status': 'ok'},\n",
       " {'loss': -0.9068175812713335,\n",
       "  'params': {'lr__C': 3.525899133034927, 'lr__penalty': 'l1'},\n",
       "  'status': 'ok'},\n",
       " {'loss': -0.8358155310842909,\n",
       "  'params': {'lr__C': 0.0007815123785148795, 'lr__penalty': 'l1'},\n",
       "  'status': 'ok'},\n",
       " {'loss': -0.9066108433053892,\n",
       "  'params': {'lr__C': 0.23548098736485834, 'lr__penalty': 'l1'},\n",
       "  'status': 'ok'},\n",
       " {'loss': -0.9068259276657559,\n",
       "  'params': {'lr__C': 7.889353833081468, 'lr__penalty': 'l1'},\n",
       "  'status': 'ok'},\n",
       " {'loss': -0.906797686080147,\n",
       "  'params': {'lr__C': 46.434357143639886, 'lr__penalty': 'l1'},\n",
       "  'status': 'ok'},\n",
       " {'loss': -0.9068219197081433,\n",
       "  'params': {'lr__C': 11.179855277097127, 'lr__penalty': 'l1'},\n",
       "  'status': 'ok'},\n",
       " {'loss': -0.9068146692883127,\n",
       "  'params': {'lr__C': 2.685116005828599, 'lr__penalty': 'l1'},\n",
       "  'status': 'ok'},\n",
       " {'loss': -0.9068049172335799,\n",
       "  'params': {'lr__C': 34.609369949519255, 'lr__penalty': 'l1'},\n",
       "  'status': 'ok'},\n",
       " {'loss': -0.9067734939421663,\n",
       "  'params': {'lr__C': 96.51039156302554, 'lr__penalty': 'l1'},\n",
       "  'status': 'ok'},\n",
       " {'loss': -0.8952248235470526,\n",
       "  'params': {'lr__C': 0.004960032138122786, 'lr__penalty': 'l1'},\n",
       "  'status': 'ok'},\n",
       " {'loss': -0.9064776585856537,\n",
       "  'params': {'lr__C': 0.11938154094190981, 'lr__penalty': 'l1'},\n",
       "  'status': 'ok'},\n",
       " {'loss': -0.9068251013625848,\n",
       "  'params': {'lr__C': 9.152218364197518, 'lr__penalty': 'l1'},\n",
       "  'status': 'ok'},\n",
       " {'loss': -0.9068174974648957,\n",
       "  'params': {'lr__C': 17.988509223385837, 'lr__penalty': 'l2'},\n",
       "  'status': 'ok'},\n",
       " {'loss': -0.9046253261054915,\n",
       "  'params': {'lr__C': 0.0307779901722829, 'lr__penalty': 'l1'},\n",
       "  'status': 'ok'},\n",
       " {'loss': -0.906786119620381,\n",
       "  'params': {'lr__C': 1.1172436410415314, 'lr__penalty': 'l2'},\n",
       "  'status': 'ok'}]"
      ]
     },
     "execution_count": 17,
     "metadata": {},
     "output_type": "execute_result"
    }
   ],
   "source": [
    "trials.results"
   ]
  },
  {
   "cell_type": "code",
   "execution_count": 21,
   "metadata": {},
   "outputs": [
    {
     "name": "stdout",
     "output_type": "stream",
     "text": [
      "        loss      lr__C lr__penalty\n",
      "28  0.906826   7.889354          l1\n",
      "36  0.906825   9.152218          l1\n",
      "21  0.906825   8.319807          l1\n",
      "20  0.906822   5.497113          l1\n",
      "15  0.906822   5.359812          l1\n",
      "30  0.906822  11.179855          l1\n",
      "0   0.906820   4.690237          l1\n",
      "6   0.906818  17.167740          l2\n",
      "25  0.906818   3.525899          l1\n",
      "37  0.906817  17.988509          l2\n",
      "31  0.906815   2.685116          l1\n",
      "4   0.906813  10.397702          l2\n",
      "12  0.906813  74.426484          l2\n",
      "10  0.906812  22.438243          l1\n",
      "32  0.906805  34.609370          l1\n",
      "14  0.906805   2.027526          l1\n",
      "3   0.906803  38.021437          l1\n",
      "29  0.906798  46.434357          l1\n",
      "18  0.906789   1.127073          l1\n",
      "16  0.906788   1.145066          l1\n",
      "39  0.906786   1.117244          l2\n",
      "22  0.906775  91.247721          l1\n",
      "33  0.906773  96.510392          l1\n",
      "7   0.906770   0.639961          l2\n",
      "13  0.906753   0.605621          l1\n",
      "19  0.906730   0.371976          l1\n",
      "24  0.906632   0.248259          l1\n",
      "27  0.906611   0.235481          l1\n",
      "5   0.906609   0.077455          l2\n",
      "8   0.906538   0.061481          l2\n",
      "35  0.906478   0.119382          l1\n",
      "38  0.904625   0.030778          l1\n",
      "2   0.904083   0.010162          l2\n",
      "9   0.903404   0.022772          l1\n",
      "1   0.901647   0.016140          l1\n",
      "11  0.900145   0.003955          l2\n",
      "34  0.895225   0.004960          l1\n",
      "17  0.873702   0.000169          l2\n",
      "26  0.835816   0.000782          l1\n",
      "23  0.500000   0.000139          l1\n"
     ]
    }
   ],
   "source": [
    "print(results)"
   ]
  },
  {
   "cell_type": "code",
   "execution_count": 19,
   "metadata": {
    "scrolled": true
   },
   "outputs": [
    {
     "data": {
      "image/png": "[encoded data removed]",
      "text/plain": [
       "<Figure size 576x576 with 1 Axes>"
      ]
     },
     "metadata": {
      "needs_background": "light"
     },
     "output_type": "display_data"
    }
   ],
   "source": [
    "results = df_results(trials.results)\n",
    "sns.set_context('talk')\n",
    "plt.figure(figsize=(8, 8))\n",
    "ax = sns.scatterplot(x='lr__C', y='loss', hue='lr__penalty', data=results);\n",
    "ax.set_xscale('log')\n",
    "ax.set_xlim(1e-4, 2e2)\n",
    "ax.grid()"
   ]
  },
  {
   "cell_type": "markdown",
   "metadata": {},
   "source": [
    "На графике видно, что Hyperplot не исследовал районы, где получались низкие значения метрики, а сосредоточился на районе с наибольшими значениями."
   ]
  }
 ],
 "metadata": {
  "kernelspec": {
   "display_name": "Python 3",
   "language": "python",
   "name": "python3"
  },
  "language_info": {
   "codemirror_mode": {
    "name": "ipython",
    "version": 3
   },
   "file_extension": ".py",
   "mimetype": "text/x-python",
   "name": "python",
   "nbconvert_exporter": "python",
   "pygments_lexer": "ipython3",
   "version": "3.7.10"
  },
  "latex_envs": {
   "LaTeX_envs_menu_present": true,
   "autoclose": false,
   "autocomplete": false,
   "bibliofile": "biblio.bib",
   "cite_by": "apalike",
   "current_citInitial": 1,
   "eqLabelWithNumbers": false,
   "eqNumInitial": 1,
   "hotkeys": {
    "equation": "Ctrl-E",
    "itemize": "Ctrl-I"
   },
   "labels_anchors": false,
   "latex_user_defs": false,
   "report_style_numbering": false,
   "user_envs_cfg": false
  }
 },
 "nbformat": 4,
 "nbformat_minor": 4
}
