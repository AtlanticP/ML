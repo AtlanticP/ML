{
 "cells": [
  {
   "cell_type": "markdown",
   "id": "1820d3d6",
   "metadata": {},
   "source": [
    "### MCAR, MNAR"
   ]
  },
  {
   "cell_type": "markdown",
   "id": "904751cc",
   "metadata": {},
   "source": [
    "***Missing Completely at Random, MCAR***: A variable is missing completely at random (MCAR) if the probability of being missing is the same for all the observations. When data is MCAR, there is absolutely no relationship between the data missing and any other values, observed or missing, within the dataset. In other words, those missing data points are a random subset of the data. There is nothing systematic going on that makes some data more likely to be missing than other.\n",
    "\n",
    " ***Missing Data Not At Random(MNAR)***: Systematic missing Values There is absolutely some relationship between the data missing and any other values, observed or missing, within the dataset."
   ]
  },
  {
   "cell_type": "code",
   "execution_count": 1,
   "id": "305c6c83",
   "metadata": {},
   "outputs": [],
   "source": [
    "import pandas as pd\n",
    "import os\n",
    "import numpy as np\n",
    "import matplotlib.pyplot as plt\n",
    "import seaborn as sns\n",
    "SEED = 32"
   ]
  },
  {
   "cell_type": "code",
   "execution_count": 2,
   "id": "66dcfa3e",
   "metadata": {},
   "outputs": [],
   "source": [
    "PATH_DIR = '../../bases/titanic' \n",
    "FILE_NAME = 'train.csv'\n",
    "FILE_PATH = os.path.join(PATH_DIR, FILE_NAME)"
   ]
  },
  {
   "cell_type": "code",
   "execution_count": 3,
   "id": "18df6823",
   "metadata": {
    "scrolled": false
   },
   "outputs": [
    {
     "data": {
      "text/html": [
       "<div>\n",
       "<style scoped>\n",
       "    .dataframe tbody tr th:only-of-type {\n",
       "        vertical-align: middle;\n",
       "    }\n",
       "\n",
       "    .dataframe tbody tr th {\n",
       "        vertical-align: top;\n",
       "    }\n",
       "\n",
       "    .dataframe thead th {\n",
       "        text-align: right;\n",
       "    }\n",
       "</style>\n",
       "<table border=\"1\" class=\"dataframe\">\n",
       "  <thead>\n",
       "    <tr style=\"text-align: right;\">\n",
       "      <th></th>\n",
       "      <th>PassengerId</th>\n",
       "      <th>Survived</th>\n",
       "      <th>Pclass</th>\n",
       "      <th>Name</th>\n",
       "      <th>Sex</th>\n",
       "      <th>Age</th>\n",
       "      <th>SibSp</th>\n",
       "      <th>Parch</th>\n",
       "      <th>Ticket</th>\n",
       "      <th>Fare</th>\n",
       "      <th>Cabin</th>\n",
       "      <th>Embarked</th>\n",
       "    </tr>\n",
       "  </thead>\n",
       "  <tbody>\n",
       "    <tr>\n",
       "      <th>0</th>\n",
       "      <td>1</td>\n",
       "      <td>0</td>\n",
       "      <td>3</td>\n",
       "      <td>Braund, Mr. Owen Harris</td>\n",
       "      <td>male</td>\n",
       "      <td>22.0</td>\n",
       "      <td>1</td>\n",
       "      <td>0</td>\n",
       "      <td>A/5 21171</td>\n",
       "      <td>7.2500</td>\n",
       "      <td>NaN</td>\n",
       "      <td>S</td>\n",
       "    </tr>\n",
       "    <tr>\n",
       "      <th>1</th>\n",
       "      <td>2</td>\n",
       "      <td>1</td>\n",
       "      <td>1</td>\n",
       "      <td>Cumings, Mrs. John Bradley (Florence Briggs Th...</td>\n",
       "      <td>female</td>\n",
       "      <td>38.0</td>\n",
       "      <td>1</td>\n",
       "      <td>0</td>\n",
       "      <td>PC 17599</td>\n",
       "      <td>71.2833</td>\n",
       "      <td>C85</td>\n",
       "      <td>C</td>\n",
       "    </tr>\n",
       "    <tr>\n",
       "      <th>2</th>\n",
       "      <td>3</td>\n",
       "      <td>1</td>\n",
       "      <td>3</td>\n",
       "      <td>Heikkinen, Miss. Laina</td>\n",
       "      <td>female</td>\n",
       "      <td>26.0</td>\n",
       "      <td>0</td>\n",
       "      <td>0</td>\n",
       "      <td>STON/O2. 3101282</td>\n",
       "      <td>7.9250</td>\n",
       "      <td>NaN</td>\n",
       "      <td>S</td>\n",
       "    </tr>\n",
       "  </tbody>\n",
       "</table>\n",
       "</div>"
      ],
      "text/plain": [
       "   PassengerId  Survived  Pclass  \\\n",
       "0            1         0       3   \n",
       "1            2         1       1   \n",
       "2            3         1       3   \n",
       "\n",
       "                                                Name     Sex   Age  SibSp  \\\n",
       "0                            Braund, Mr. Owen Harris    male  22.0      1   \n",
       "1  Cumings, Mrs. John Bradley (Florence Briggs Th...  female  38.0      1   \n",
       "2                             Heikkinen, Miss. Laina  female  26.0      0   \n",
       "\n",
       "   Parch            Ticket     Fare Cabin Embarked  \n",
       "0      0         A/5 21171   7.2500   NaN        S  \n",
       "1      0          PC 17599  71.2833   C85        C  \n",
       "2      0  STON/O2. 3101282   7.9250   NaN        S  "
      ]
     },
     "metadata": {},
     "output_type": "display_data"
    },
    {
     "name": "stdout",
     "output_type": "stream",
     "text": [
      "(891, 12)\n"
     ]
    }
   ],
   "source": [
    "df = pd.read_csv(FILE_PATH)\n",
    "trg = df.Survived\n",
    "display(df.head(3))\n",
    "print(df.shape)"
   ]
  },
  {
   "cell_type": "code",
   "execution_count": 6,
   "id": "d7204ecc",
   "metadata": {},
   "outputs": [
    {
     "data": {
      "text/plain": [
       "0    549\n",
       "1    342\n",
       "Name: Survived, dtype: int64"
      ]
     },
     "metadata": {},
     "output_type": "display_data"
    }
   ],
   "source": [
    "display(trg.value_counts())"
   ]
  },
  {
   "cell_type": "code",
   "execution_count": 7,
   "id": "2b473d22",
   "metadata": {},
   "outputs": [
    {
     "data": {
      "text/plain": [
       "Age         0.198653\n",
       "Cabin       0.771044\n",
       "Embarked    0.002245\n",
       "dtype: float64"
      ]
     },
     "execution_count": 7,
     "metadata": {},
     "output_type": "execute_result"
    }
   ],
   "source": [
    "feats_isna = df.columns[np.where(df.isnull().any())[0]]\n",
    "df[feats_isna].isna().mean()"
   ]
  },
  {
   "cell_type": "code",
   "execution_count": 8,
   "id": "9f5d88b5",
   "metadata": {},
   "outputs": [
    {
     "data": {
      "image/png": "[encoded data removed]",
      "text/plain": [
       "<Figure size 432x288 with 1 Axes>"
      ]
     },
     "metadata": {
      "needs_background": "light"
     },
     "output_type": "display_data"
    }
   ],
   "source": [
    "df_tmp = df[feats_isna].copy()\n",
    "for feat in feats_isna:\n",
    "    df_tmp[feat] = np.where(df_tmp[feat].isna(), 1, 0)\n",
    "df_tmp.groupby(trg).mean().plot.bar()\n",
    "plt.show()"
   ]
  },
  {
   "cell_type": "markdown",
   "id": "50de657f",
   "metadata": {},
   "source": [
    "Probably there is some relationship between variables (MCAR): Age and Survived. And we assume that Cabin variable is ***MAR***."
   ]
  },
  {
   "cell_type": "markdown",
   "id": "7d854c32",
   "metadata": {},
   "source": [
    "### Missing At Random (MAR)\n",
    "#### All the techniques of handling missing values. \n",
    "***Numeric data.***\n",
    "1. Mean/Median/Mode replacement\n",
    "2. Random Sample Imputation\n",
    "3. Capturing NAN values with a new feature (MNAR)\n",
    "4. End of Distribution imputation\n",
    "5. Arbitrary imputation\n",
    "6. Nearest neighbors imputation\n",
    "\n",
    "***Categorical data.***\n",
    "\n",
    "7. Frequent Category Imputation\n"
   ]
  },
  {
   "cell_type": "markdown",
   "id": "8dba654a",
   "metadata": {},
   "source": [
    "### Numeric data."
   ]
  },
  {
   "cell_type": "markdown",
   "id": "fc38b636",
   "metadata": {},
   "source": [
    "#### 1. Mean/Median/Mode replacement"
   ]
  },
  {
   "cell_type": "code",
   "execution_count": 9,
   "id": "901a1a6c",
   "metadata": {},
   "outputs": [],
   "source": [
    "usecols = ['Survived', 'Age']\n",
    "df = pd.read_csv(FILE_PATH, usecols=usecols)"
   ]
  },
  {
   "cell_type": "code",
   "execution_count": 10,
   "id": "94202ac4",
   "metadata": {
    "scrolled": true
   },
   "outputs": [
    {
     "data": {
      "image/png": "[encoded data removed]",
      "text/plain": [
       "<Figure size 432x288 with 1 Axes>"
      ]
     },
     "metadata": {
      "needs_background": "light"
     },
     "output_type": "display_data"
    }
   ],
   "source": [
    "feat = 'Age'\n",
    "df[feat+'_isna'] = df[feat].fillna(df[feat].median())\n",
    "fig = plt.figure()\n",
    "ax = fig.add_subplot(111)\n",
    "df[feat].plot(kind='kde', ax=ax)\n",
    "df[feat+'_isna'].plot(kind='kde', color='red')\n",
    "lines, labels = ax.get_legend_handles_labels()\n",
    "ax.legend(handles=lines, labels=labels, loc='best')\n",
    "plt.show()"
   ]
  },
  {
   "cell_type": "markdown",
   "id": "6f33d570",
   "metadata": {},
   "source": [
    "***Advantages***\n",
    "1. Easy to implement(Robust to outliers)\n",
    "2. Faster way to obtain the complete dataset \n",
    "\n",
    "***Disadvantages***\n",
    "\n",
    "3. Change or Distortion in the original variance\n",
    "4. Impacts Correlation\n",
    "\n"
   ]
  },
  {
   "cell_type": "markdown",
   "id": "29a644ba",
   "metadata": {},
   "source": [
    "#### 2.Random Sample Imputation¶\n",
    "\n",
    "Aim: Random sample imputation consists of taking random observation from the dataset and we use this observation to replace the nan values\n",
    "\n",
    "When should it be used? It assumes that the data are missing completely at random(MCAR)\n"
   ]
  },
  {
   "cell_type": "code",
   "execution_count": 11,
   "id": "2efa252b",
   "metadata": {},
   "outputs": [],
   "source": [
    "usecols = ['Survived', 'Age']\n",
    "df = pd.read_csv(FILE_PATH, usecols=usecols)"
   ]
  },
  {
   "cell_type": "code",
   "execution_count": 12,
   "id": "21923b4d",
   "metadata": {},
   "outputs": [],
   "source": [
    "feat = 'Age'\n",
    "df[feat+'_random'] = df[feat]\n",
    "sample_random = df[feat].dropna().sample(df[feat].isna().sum(), random_state=SEED)\n",
    "sample_random.index = df[df[feat].isna()].index\n",
    "df.loc[df[feat].isna(), feat+'_random'] = sample_random"
   ]
  },
  {
   "cell_type": "code",
   "execution_count": 13,
   "id": "11f66574",
   "metadata": {},
   "outputs": [
    {
     "data": {
      "image/png": "[encoded data removed]",
      "text/plain": [
       "<Figure size 432x288 with 1 Axes>"
      ]
     },
     "metadata": {
      "needs_background": "light"
     },
     "output_type": "display_data"
    }
   ],
   "source": [
    "fig = plt.figure()\n",
    "ax = fig.add_subplot(111)\n",
    "df[feat].plot(kind='kde', ax=ax)\n",
    "df[feat+'_random'].plot(kind='kde', color='red')\n",
    "lines, labels = ax.get_legend_handles_labels()\n",
    "ax.legend(handles=lines, labels=labels, loc='best')\n",
    "plt.show()"
   ]
  },
  {
   "cell_type": "markdown",
   "id": "5c5c8d12",
   "metadata": {},
   "source": [
    "##### Advantages\n",
    "1. Easy to implement\n",
    "2. There is less distortion in variance\n",
    "\n",
    "##### Disadvantage\n",
    "1. In every situation randomness wont work"
   ]
  },
  {
   "cell_type": "markdown",
   "id": "56506cbc",
   "metadata": {},
   "source": [
    "#### 3. Capturing NAN values with a new feature\n",
    "It works well if data is not missing completly at random"
   ]
  },
  {
   "cell_type": "code",
   "execution_count": 14,
   "id": "5e134bc4",
   "metadata": {},
   "outputs": [],
   "source": [
    "df = pd.read_csv(FILE_PATH, usecols=['Age'])"
   ]
  },
  {
   "cell_type": "code",
   "execution_count": 15,
   "id": "3e8f6ea2",
   "metadata": {},
   "outputs": [],
   "source": [
    "df['Age_nan'] = np.where(df.Age.isna(), 1, 0)\n",
    "df.Age.fillna(df.Age.median(), inplace=True)"
   ]
  },
  {
   "cell_type": "markdown",
   "id": "d8db7aef",
   "metadata": {},
   "source": [
    "##### Advantages\n",
    "\n",
    "1. Easy to implement\n",
    "2. Captures the importance of missing values\n",
    "\n",
    "##### Disadvantages\n",
    "3. Creating Additional Features(Curse of Dimensionality)\n",
    "\n"
   ]
  },
  {
   "cell_type": "markdown",
   "id": "b4824f83",
   "metadata": {},
   "source": [
    "#### End of distribution Imputation"
   ]
  },
  {
   "cell_type": "code",
   "execution_count": 16,
   "id": "c6c471a7",
   "metadata": {},
   "outputs": [
    {
     "data": {
      "text/plain": [
       "<AxesSubplot:>"
      ]
     },
     "execution_count": 16,
     "metadata": {},
     "output_type": "execute_result"
    },
    {
     "data": {
      "image/png": "[encoded data removed]",
      "text/plain": [
       "<Figure size 432x288 with 1 Axes>"
      ]
     },
     "metadata": {
      "needs_background": "light"
     },
     "output_type": "display_data"
    }
   ],
   "source": [
    "df = pd.read_csv(FILE_PATH, usecols=['Age', 'Survived'])\n",
    "df.Age.hist(bins=50)"
   ]
  },
  {
   "cell_type": "code",
   "execution_count": 17,
   "id": "c61b9ad3",
   "metadata": {},
   "outputs": [
    {
     "data": {
      "image/png": "[encoded data removed]",
      "text/plain": [
       "<Figure size 432x288 with 1 Axes>"
      ]
     },
     "metadata": {
      "needs_background": "light"
     },
     "output_type": "display_data"
    }
   ],
   "source": [
    "sns.boxplot(y='Age', data=df)\n",
    "plt.show()"
   ]
  },
  {
   "cell_type": "code",
   "execution_count": 18,
   "id": "3e0b55a0",
   "metadata": {},
   "outputs": [],
   "source": [
    "extreme = df.Age.mean() + 3*df.Age.std()\n",
    "feat = 'Age'\n",
    "df[feat+'_end_distribution'] = df[feat].fillna(extreme)"
   ]
  },
  {
   "cell_type": "code",
   "execution_count": 19,
   "id": "55405498",
   "metadata": {},
   "outputs": [
    {
     "data": {
      "image/png": "[encoded data removed]",
      "text/plain": [
       "<Figure size 432x288 with 1 Axes>"
      ]
     },
     "metadata": {
      "needs_background": "light"
     },
     "output_type": "display_data"
    }
   ],
   "source": [
    "df[feat+'_end_distribution'].hist(bins=50)\n",
    "plt.show()"
   ]
  },
  {
   "cell_type": "markdown",
   "id": "faea7d29",
   "metadata": {},
   "source": [
    "#### Advantages\n",
    "1. Easy to implement\n",
    "2. Captures the importance of missingness if there is one\n",
    "\n",
    "#### Disadvantage\n",
    "3. Distorts the original distribution of the variable\n",
    "4. If missingness is not important, it may mak the predictive power of the original variable by distorting its distribution\n",
    "5. If the number of NA is big, it will mask true outliers in the distribution.\n",
    "6. If the number of NA is small, the replaces NA may be considered an outlier and pre-processed in a subsequent step of feature engineering"
   ]
  },
  {
   "cell_type": "markdown",
   "id": "dcc7b549",
   "metadata": {},
   "source": [
    "#### 5. Arbitrary Value Imputation\n",
    "It consists of replacing NAN by an arbitrary value."
   ]
  },
  {
   "cell_type": "code",
   "execution_count": 20,
   "id": "822a662b",
   "metadata": {},
   "outputs": [],
   "source": [
    "df = pd.read_csv(FILE_PATH, usecols=['Age', 'Survived'])"
   ]
  },
  {
   "cell_type": "code",
   "execution_count": 21,
   "id": "5ca81471",
   "metadata": {},
   "outputs": [
    {
     "name": "stdout",
     "output_type": "stream",
     "text": [
      "43\n"
     ]
    },
    {
     "data": {
      "image/png": "[encoded data removed]",
      "text/plain": [
       "<Figure size 432x288 with 1 Axes>"
      ]
     },
     "metadata": {
      "needs_background": "light"
     },
     "output_type": "display_data"
    }
   ],
   "source": [
    "np.random.seed(SEED)\n",
    "av = np.random.randint(df.Age.max()) # arbitrary value\n",
    "print(av)\n",
    "df['Age'].hist(bins=50, label='initial distribution')\n",
    "df['Age'].fillna(av).hist(bins=50, label='distribution with av', alpha=0.5)\n",
    "plt.legend()\n",
    "plt.show()"
   ]
  },
  {
   "cell_type": "markdown",
   "id": "5ac6fac0",
   "metadata": {},
   "source": [
    "##### Advantages\n",
    "\n",
    "1. Easy to implement\n",
    "2. Captures the importance of missingess if there is one\n",
    "\n",
    "##### Disadvantages\n",
    "1. Distorts the original distribution of the variable\n",
    "2. If missingess is not important, it may mask the predictive power of the original variable by distorting its distribution\n",
    "3. Hard to decide which value to use\n",
    "\n"
   ]
  },
  {
   "cell_type": "markdown",
   "id": "2d3f4fad",
   "metadata": {},
   "source": [
    "#### 6. Nearest neighbors imputation"
   ]
  },
  {
   "cell_type": "code",
   "execution_count": 26,
   "id": "ce6d19b2",
   "metadata": {},
   "outputs": [
    {
     "data": {
      "text/plain": [
       "array([[1. , 2. , 4. ],\n",
       "       [3. , 4. , 3. ],\n",
       "       [5.5, 6. , 5. ],\n",
       "       [8. , 8. , 7. ]])"
      ]
     },
     "execution_count": 26,
     "metadata": {},
     "output_type": "execute_result"
    }
   ],
   "source": [
    "from sklearn.impute import KNNImputer\n",
    "X = [[1, 2, np.nan], [3, 4, 3], [np.nan, 6, 5], [8, 8, 7]]\n",
    "imputer = KNNImputer(n_neighbors=2, weights='uniform')\n",
    "imputer.fit_transform(X)"
   ]
  },
  {
   "cell_type": "markdown",
   "id": "95cbb970",
   "metadata": {},
   "source": [
    "### Missing values. Categorical data."
   ]
  },
  {
   "cell_type": "markdown",
   "id": "069b06af",
   "metadata": {},
   "source": [
    "#### 7. Frequent Category Imputation"
   ]
  },
  {
   "cell_type": "code",
   "execution_count": 22,
   "id": "7c0a7407",
   "metadata": {},
   "outputs": [],
   "source": [
    "PATH_DIR = '../../bases/House Prices - Advanced Regression Techniques' \n",
    "FILE_NAME = 'train.csv'\n",
    "FILE_PATH = os.path.join(PATH_DIR, FILE_NAME)"
   ]
  },
  {
   "cell_type": "code",
   "execution_count": 23,
   "id": "42d11092",
   "metadata": {},
   "outputs": [
    {
     "name": "stdout",
     "output_type": "stream",
     "text": [
      "(1460, 4)\n"
     ]
    },
    {
     "data": {
      "text/html": [
       "<div>\n",
       "<style scoped>\n",
       "    .dataframe tbody tr th:only-of-type {\n",
       "        vertical-align: middle;\n",
       "    }\n",
       "\n",
       "    .dataframe tbody tr th {\n",
       "        vertical-align: top;\n",
       "    }\n",
       "\n",
       "    .dataframe thead th {\n",
       "        text-align: right;\n",
       "    }\n",
       "</style>\n",
       "<table border=\"1\" class=\"dataframe\">\n",
       "  <thead>\n",
       "    <tr style=\"text-align: right;\">\n",
       "      <th></th>\n",
       "      <th>BsmtQual</th>\n",
       "      <th>FireplaceQu</th>\n",
       "      <th>GarageType</th>\n",
       "      <th>SalePrice</th>\n",
       "    </tr>\n",
       "  </thead>\n",
       "  <tbody>\n",
       "    <tr>\n",
       "      <th>0</th>\n",
       "      <td>Gd</td>\n",
       "      <td>NaN</td>\n",
       "      <td>Attchd</td>\n",
       "      <td>208500</td>\n",
       "    </tr>\n",
       "    <tr>\n",
       "      <th>1</th>\n",
       "      <td>Gd</td>\n",
       "      <td>TA</td>\n",
       "      <td>Attchd</td>\n",
       "      <td>181500</td>\n",
       "    </tr>\n",
       "    <tr>\n",
       "      <th>2</th>\n",
       "      <td>Gd</td>\n",
       "      <td>TA</td>\n",
       "      <td>Attchd</td>\n",
       "      <td>223500</td>\n",
       "    </tr>\n",
       "    <tr>\n",
       "      <th>3</th>\n",
       "      <td>TA</td>\n",
       "      <td>Gd</td>\n",
       "      <td>Detchd</td>\n",
       "      <td>140000</td>\n",
       "    </tr>\n",
       "    <tr>\n",
       "      <th>4</th>\n",
       "      <td>Gd</td>\n",
       "      <td>TA</td>\n",
       "      <td>Attchd</td>\n",
       "      <td>250000</td>\n",
       "    </tr>\n",
       "  </tbody>\n",
       "</table>\n",
       "</div>"
      ],
      "text/plain": [
       "  BsmtQual FireplaceQu GarageType  SalePrice\n",
       "0       Gd         NaN     Attchd     208500\n",
       "1       Gd          TA     Attchd     181500\n",
       "2       Gd          TA     Attchd     223500\n",
       "3       TA          Gd     Detchd     140000\n",
       "4       Gd          TA     Attchd     250000"
      ]
     },
     "execution_count": 23,
     "metadata": {},
     "output_type": "execute_result"
    }
   ],
   "source": [
    "df = pd.read_csv(FILE_PATH, usecols=['BsmtQual','FireplaceQu','GarageType','SalePrice'])\n",
    "print(df.shape)\n",
    "df.head()"
   ]
  },
  {
   "cell_type": "code",
   "execution_count": 24,
   "id": "0e7b95ac",
   "metadata": {},
   "outputs": [
    {
     "data": {
      "text/plain": [
       "True"
      ]
     },
     "execution_count": 24,
     "metadata": {},
     "output_type": "execute_result"
    }
   ],
   "source": [
    "from sklearn.impute import SimpleImputer\n",
    "\n",
    "feat = df.columns[0]\n",
    "df1 = df.copy()\n",
    "\n",
    "for feat in df.columns:\n",
    "    most_frequent_category = df1[feat].mode().values[0]\n",
    "    df1[feat].fillna(most_frequent_category, inplace=True)\n",
    "    \n",
    "\n",
    "df2 = df.copy()\n",
    "df2 = SimpleImputer(missing_values=np.nan, strategy='most_frequent').fit_transform(df)\n",
    "(df1.values == df2).all()"
   ]
  }
 ],
 "metadata": {
  "kernelspec": {
   "display_name": "Python 3",
   "language": "python",
   "name": "python3"
  },
  "language_info": {
   "codemirror_mode": {
    "name": "ipython",
    "version": 3
   },
   "file_extension": ".py",
   "mimetype": "text/x-python",
   "name": "python",
   "nbconvert_exporter": "python",
   "pygments_lexer": "ipython3",
   "version": "3.7.10"
  },
  "latex_envs": {
   "LaTeX_envs_menu_present": true,
   "autoclose": false,
   "autocomplete": false,
   "bibliofile": "biblio.bib",
   "cite_by": "apalike",
   "current_citInitial": 1,
   "eqLabelWithNumbers": false,
   "eqNumInitial": 1,
   "hotkeys": {
    "equation": "Ctrl-E",
    "itemize": "Ctrl-I"
   },
   "labels_anchors": false,
   "latex_user_defs": false,
   "report_style_numbering": false,
   "user_envs_cfg": false
  }
 },
 "nbformat": 4,
 "nbformat_minor": 5
}
